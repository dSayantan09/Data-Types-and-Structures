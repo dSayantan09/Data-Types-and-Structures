{
  "nbformat": 4,
  "nbformat_minor": 0,
  "metadata": {
    "colab": {
      "provenance": []
    },
    "kernelspec": {
      "name": "python3",
      "display_name": "Python 3"
    },
    "language_info": {
      "name": "python"
    }
  },
  "cells": [
    {
      "cell_type": "markdown",
      "source": [
        "Data Types and Structures Questions"
      ],
      "metadata": {
        "id": "3GTGIz0Gq5uU"
      }
    },
    {
      "cell_type": "markdown",
      "source": [
        "1. What are data structures, and why are they important?"
      ],
      "metadata": {
        "id": "-WycTFOIq_Dw"
      }
    },
    {
      "cell_type": "markdown",
      "source": [
        "> Answer :\n",
        "\n",
        "Data structures are organized ways of storing and arranging data in computer memory so that it can be accessed, modified, and managed efficiently. Think of them as different types of containers, each designed for specific purposes and optimized for different operations.\n",
        "\n",
        "Why:\n",
        "\n",
        "\n",
        "1.   Performance optimization: Choosing the right data structure dramatically affects your program's speed. Looking up a value in a dictionary takes roughly the same time whether you have 10 items or 10 million items, while searching through a list gets slower as it grows.\n",
        "\n",
        "2.  Code readability: Python's data structures are designed to make your intentions clear. When you see a dictionary, you know the code is about relationships between keys and values. A list suggests ordered data or sequences.\n",
        "\n",
        "3.   Problem-solving patterns: Many programming problems have natural data structure solutions in Python. Need to track unique items? Use a set. Building a cache? Use a dictionary. Processing items in order? Use a list or deque.\n",
        "\n",
        "\n",
        "\n"
      ],
      "metadata": {
        "id": "nt6eGFgWrE-Z"
      }
    },
    {
      "cell_type": "markdown",
      "source": [
        "2.  Explain the difference between mutable and immutable data types with examples?"
      ],
      "metadata": {
        "id": "3GER7aOVsMRD"
      }
    },
    {
      "cell_type": "markdown",
      "source": [
        "\n",
        "> Answer :\n",
        "\n",
        "Immutable Data Types\n",
        "Immutable objects cannot be changed once created. When you think you're modifying them, Python actually creates a new object:\n",
        "\n",
        "\n",
        "```\n",
        "# Strings are immutable:\n",
        "name = \"Alice\"\n",
        "print(id(name))  # shows memory address, e.g., 140234567890\n",
        "name = name + \" Smith\"\n",
        "print(id(name))  # different memory address - new object created\n",
        "\n",
        "'''\n",
        "output:\n",
        "137248854677808\n",
        "137248854442416\n",
        " '''\n",
        "```\n",
        "\n",
        "Mutable Data Types\n",
        "Mutable objects can be changed in place without creating new objects:\n",
        "\n",
        "\n",
        "\n",
        "```\n",
        "# Lists can be modified:\n",
        "numbers = [1, 2, 3]\n",
        "print(id(numbers))  # memory address\n",
        "numbers.append(4)   # modifies existing object\n",
        "print(id(numbers))  # same memory address\n",
        "numbers[0] = 99     # changes element in place\n",
        "\n",
        "'''\n",
        "Output:\n",
        "137248855356352\n",
        "137248855356352\n",
        "'''\n",
        "```\n",
        "\n"
      ],
      "metadata": {
        "id": "kd5Ohy4osQqZ"
      }
    },
    {
      "cell_type": "markdown",
      "source": [
        "3. What are the main differences between lists and tuples in Python?"
      ],
      "metadata": {
        "id": "QDYqq3tAt8KI"
      }
    },
    {
      "cell_type": "markdown",
      "source": [
        "\n",
        "\n",
        "> Answer:\n",
        "\n",
        "Lists and tuples are both sequence types in Python, but they have several key differences that make them suited for different use cases.\n",
        "\n",
        "**Mutability - The Core Difference**\n",
        "Lists are mutable - you can change them after creation.\n",
        "Tuples are immutable - once created, they cannot be changed.\n",
        "\n",
        "**Syntax Differences**\n",
        "Lists use square brackets.\n",
        "Tuples use parentheses.\n",
        "\n",
        "**Performance Characteristics**\n",
        "List are slower for certain operations due to their mutability.\n",
        "Tuples are faster for certain operations due to their immutability.\n",
        "\n",
        "**Memory Usages**\n",
        "List use more memory.\n",
        "Tuples use less memory.\n",
        "\n",
        "Examples:\n",
        "\n",
        "\n",
        "```\n",
        "# List:\n",
        "cart = []\n",
        "cart.append('laptop')\n",
        "cart.append('mouse')\n",
        "if 'keyboard' not in cart:\n",
        "    cart.append('keyboard')\n",
        "cart\n",
        "\n",
        "'''\n",
        "Ouput:\n",
        "['laptop', 'mouse', 'keyboard']\n",
        "'''\n",
        "```\n",
        "\n",
        "\n",
        "\n",
        "```\n",
        "# Tuple:\n",
        "person = (\"Alice\", 25, \"Engineer\")\n",
        "print(\"Person info:\", person)\n",
        "print(\"Name:\", person[0])\n",
        "print(\"Age:\", person[1])\n",
        "'''\n",
        "Output:\n",
        "Person info: ('Alice', 25, 'Engineer')\n",
        "Name: Alice\n",
        "Age: 25\n",
        "'''\n",
        "```\n",
        "\n",
        "\n"
      ],
      "metadata": {
        "id": "S6bNKMjXuIwO"
      }
    },
    {
      "cell_type": "markdown",
      "source": [
        "4. Describe how dictionaries store data?"
      ],
      "metadata": {
        "id": "ug1hT-09wZZ2"
      }
    },
    {
      "cell_type": "markdown",
      "source": [
        "\n",
        "\n",
        "> Answer:\n",
        "\n",
        "Dictionaries in Python store data using a key-value pair structure, where each piece of data (value) is associated with a unique identifier (key). Think of it like a real dictionary where you look up a word (key) to find its definition (value).\n",
        "\n",
        "**How Data is Stored Internally**\n",
        "Hash Table Implementation: Python dictionaries use a hash table (hash map) underneath. Here's how it works:\n",
        "\n",
        "Hashing the Key: When you store a key-value pair, Python runs the key through a hash function that converts it into a number (hash value).\n",
        "\n",
        "Finding Storage Location: This hash value determines where in memory the data should be stored.\n",
        "\n",
        "Collision Handling: If two keys produce the same hash (collision), Python uses techniques to store both items.\n",
        "\n",
        "\n",
        "\n",
        "```\n",
        "# Creating a dictionary\n",
        "student = {\n",
        "    'name': 'Alice',\n",
        "    'age': 22,\n",
        "    'grade': 'A',\n",
        "    'courses': ['Math', 'Physics', 'Chemistry']\n",
        "}\n",
        "\n",
        "# Python calculates hash values for keys\n",
        "print(hash('name'))    \n",
        "print(hash('age'))     \n",
        "print(hash(42))\n",
        "\n",
        "'''\n",
        "Output:\n",
        "2110982745502007432\n",
        "2606626546434770325\n",
        "42\n",
        "'''\n",
        "```"
      ],
      "metadata": {
        "id": "NDiqbgV2wd6g"
      }
    },
    {
      "cell_type": "markdown",
      "source": [
        "5. Why might you use a set instead of a list in Python?"
      ],
      "metadata": {
        "id": "ucKwZJBMxN7O"
      }
    },
    {
      "cell_type": "markdown",
      "source": [
        "\n",
        "\n",
        "> Answer:\n",
        "\n",
        "Sets and lists serve different purposes, and choosing sets over lists can provide significant advantages in specific scenarios. Here are the key reasons why you'd use a set instead of a list:\n",
        "\n",
        "1. **Automatic Uniqueness**\n",
        "Sets automatically eliminate duplicates, which lists don't.\n",
        "\n",
        "2. **Lightning-Fast Membership Testing**\n",
        "Checking if an item exists is much faster with sets.\n",
        "\n",
        "3. **Efficient Set Operations**\n",
        "Sets provide mathematical set operations that are cumbersome with lists.\n",
        "\n",
        "4. **Memory Efficiency for Unique Data**\n",
        "Sets are more memory-efficient when you only need unique elements.\n",
        "\n",
        "5. **Data Validation and Filtering**\n",
        "Sets excel at filtering and validation tasks.\n",
        "\n"
      ],
      "metadata": {
        "id": "VuEcDRcoxSK5"
      }
    },
    {
      "cell_type": "markdown",
      "source": [
        "6. What is a string in Python, and how is it different from a list?"
      ],
      "metadata": {
        "id": "qaHTN78jz-Oz"
      }
    },
    {
      "cell_type": "markdown",
      "source": [
        "\n",
        "\n",
        "> Answer:\n",
        "\n",
        "A string in Python is a sequence of characters (letters, numbers, symbols) that represents text data. While both strings and lists are sequences, they have fundamental differences in structure, behavior, and purpose.\n",
        "\n",
        "Key Differences from Lists\n",
        "\n",
        "1. Mutability\n",
        "\n",
        "Strings are immutable - you cannot change individual characters.\n",
        "\n",
        "Lists are mutable - you can modify elements.\n",
        "\n",
        "2. Data Types of Elements\n",
        "\n",
        "Strings contain only characters.\n",
        "\n",
        "Lists can contain any data type.\n",
        "\n",
        "3. Memory Storage\n",
        "\n",
        "Strings are stored as a continuous block of characters.\n",
        "\n",
        "Lists store references to objects.\n",
        "\n",
        "4. Available Methods\n",
        "\n",
        "String methods focus on text processing.\n",
        "\n",
        "List methods focus on collection manipulation.\n",
        "\n",
        "5. Performance Characteristics\n",
        "\n",
        "String concatenation creates new objects\n",
        "\n",
        "List operations modify in-place"
      ],
      "metadata": {
        "id": "mO7kt5D_0Cw0"
      }
    },
    {
      "cell_type": "markdown",
      "source": [
        "7. How do tuples ensure data integrity in Python?"
      ],
      "metadata": {
        "id": "JpdaeL2P3gfp"
      }
    },
    {
      "cell_type": "markdown",
      "source": [
        "\n",
        "\n",
        "> Answer:\n",
        "\n",
        "Tuples ensure data integrity in Python through several key mechanisms that prevent accidental or unauthorized modifications to critical data. Here's how they provide this protection:\n",
        "1. Immutability\n",
        "\n",
        "The Core ProtectionTuples cannot be modified after creation, which prevents accidental data corruption.\n",
        "\n",
        "2. Function Parameter Safety\n",
        "\n",
        "Tuples passed to functions cannot be modified, ensuring the original data remains intact. With lists, functions could accidentally modify your original data.\n",
        "\n",
        "3. Dictionary Key Integrity\n",
        "\n",
        "Only immutable objects can be dictionary keys, and tuples ensure these keys never change.\n",
        "\n",
        "4. Preventing Race Conditions in Concurrent Programming\n",
        "\n",
        "Immutable tuples are thread-safe without additional synchronization\n",
        "\n",
        "5. Data Structure Integrity\n",
        "\n",
        "Tuples maintain consistent structure, ensuring data always has expected format."
      ],
      "metadata": {
        "id": "JBCmBrP43oeI"
      }
    },
    {
      "cell_type": "markdown",
      "source": [
        "8. What is a hash table, and how does it relate to dictionaries in Python?"
      ],
      "metadata": {
        "id": "RdAN6c_Q4S8S"
      }
    },
    {
      "cell_type": "markdown",
      "source": [],
      "metadata": {
        "id": "GRLWQBGp4Zy1"
      }
    },
    {
      "cell_type": "markdown",
      "source": [
        "\n",
        "\n",
        "> Answer:\n",
        "\n",
        "A hash table (also called hash map) is the underlying data structure that makes Python dictionaries incredibly fast. Understanding how hash tables work helps explain why dictionary operations are so efficient and why keys must be immutable.\n",
        "\n",
        "A hash table is a data structure that stores key-value pairs by using a hash function to compute an index into an array of \"buckets\" or \"slots.\" Think of it as a super-efficient filing system where you can instantly find any file by calculating exactly where it should be stored.\n",
        "\n",
        "How Hash Tables Work\n",
        "1. Hash Functions\n",
        "\n",
        "A hash function takes any input (the key) and converts it to a fixed-size number.\n",
        "\n",
        "2. Index Calculation\n",
        "\n",
        "The hash value is used to calculate where to store the data.\n",
        "\n",
        "3. Storage and Retrieval Process\n",
        "\n",
        "Here's a conceptual view of how a hash table stores data.\n",
        "\n",
        "How Python Dictionaries Use Hash Tables\n",
        "Python dictionaries are highly optimized hash tables with several advanced features:\n",
        "\n",
        "1. Dynamic Resizing\n",
        "\n",
        "2. Collision Handling\n",
        "\n",
        "When two keys hash to the same index (collision), Python uses sophisticated techniques.\n",
        "\n",
        "3. Order Preservation (Python 3.7+)\n",
        "\n",
        "Modern Python dictionaries maintain insertion order while keeping hash table performance.\n",
        "\n",
        "Hash tables are the secret behind dictionary speed. They use hash functions to instantly calculate where data should be stored, providing O(1) average performance for lookups, insertions, and deletions. Python dictionaries are sophisticated hash table implementations that combine blazing speed with order preservation and automatic resizing, making them one of the most powerful and versatile data structures in programming.\n",
        "\n"
      ],
      "metadata": {
        "id": "nIPnTpA23P7s"
      }
    },
    {
      "cell_type": "markdown",
      "source": [
        "9. Can lists contain different data types in Python?"
      ],
      "metadata": {
        "id": "Xn8Jzw8G50qZ"
      }
    },
    {
      "cell_type": "markdown",
      "source": [
        "\n",
        "\n",
        "> Answer:\n",
        "\n",
        "Yes, Python lists can absolutely contain different data types in the same list. This is one of Python's most flexible features, as lists are heterogeneous containers that can hold any combination of objects.\n",
        "\n",
        "\n",
        "\n",
        "```\n",
        "# List containing various data types\n",
        "mixed_list = [\n",
        "    \"Hello\",           # string\n",
        "    42,                # integer\n",
        "    3.14,              # float\n",
        "    True,              # boolean\n",
        "    [1, 2, 3],         # nested list\n",
        "    (10, 20),          # tuple\n",
        "    {\"key\": \"value\"},  # dictionary\n",
        "    None               # None type\n",
        "]\n",
        "\n",
        "print(mixed_list)\n",
        "print(f\"List length: {len(mixed_list)}\")\n",
        "\n",
        "# Access different types\n",
        "print(f\"String: {mixed_list[0]}\")\n",
        "print(f\"Integer: {mixed_list[1]}\")\n",
        "print(f\"Nested list: {mixed_list[4]}\")\n",
        "\n",
        "'''\n",
        "output:\n",
        "['Hello', 42, 3.14, True, [1, 2, 3], (10, 20), {'key': 'value'}, None]\n",
        "List length: 8\n",
        "String: Hello\n",
        "Integer: 42\n",
        "Nested list: [1, 2, 3]\n",
        "'''\n",
        "```"
      ],
      "metadata": {
        "id": "UXTsTFh_57g2"
      }
    },
    {
      "cell_type": "markdown",
      "source": [
        "10. Explain why strings are immutable in Python."
      ],
      "metadata": {
        "id": "gMRWwgd06vnY"
      }
    },
    {
      "cell_type": "markdown",
      "source": [
        "\n",
        "\n",
        "> Answer:\n",
        "\n",
        "Strings are immutable in Python by design, meaning once a string object is created, it cannot be changed. This design choice has several important technical and practical reasons.\n",
        "\n",
        "Reasons for Immutability\n",
        "\n",
        "1. Hash Stability for Dictionary Keys\n",
        "\n",
        "Strings are commonly used as dictionary keys, and keys must have stable hash values.\n",
        "\n",
        "2. Memory Optimization Through Interning\n",
        "\n",
        "Python can optimize memory by reusing identical strings.\n",
        "\n",
        "3. Thread Safety\n",
        "\n",
        "Immutable strings are inherently thread-safe without synchronization.\n",
        "\n",
        "4. Optimization of String Operations\n",
        "\n",
        "Python can optimize operations knowing strings won't change.\n"
      ],
      "metadata": {
        "id": "-N1eZiPO7B0A"
      }
    },
    {
      "cell_type": "markdown",
      "source": [
        "11. What advantages do dictionaries offer over lists for certain tasks?"
      ],
      "metadata": {
        "id": "lkc2nIX2DP1j"
      }
    },
    {
      "cell_type": "markdown",
      "source": [
        "\n",
        "\n",
        "> Answer:\n",
        "\n",
        "Dictionaries offer significant advantages over lists for specific types of tasks, primarily because they use a fundamentally different approach to data organization and access. Here are the key advantages:\n",
        "\n",
        "1. Lightning-Fast Lookups\n",
        "\n",
        "O(1) vs O(n)Dictionaries provide constant-time lookups, while lists require sequential searching.\n",
        "\n",
        "2. Meaningful Key-Based Access\n",
        "\n",
        "Dictionaries use descriptive keys instead of numeric indices.\n",
        "\n",
        "3. Efficient Data Relationships and Mapping\n",
        "\n",
        "Dictionaries excel at representing relationships between data.\n",
        "\n",
        "4. Natural Counting and Frequency Analysis\n",
        "\n",
        "Dictionaries are perfect for counting occurrences.\n",
        "\n",
        "5. Flexible Schema and Dynamic Structure\n",
        "\n",
        "Dictionaries can have different structures within the same collection.\n"
      ],
      "metadata": {
        "id": "W6hIJjYUDUZW"
      }
    },
    {
      "cell_type": "markdown",
      "source": [
        "12. Describe a scenario where using a tuple would be preferable over a list"
      ],
      "metadata": {
        "id": "4qo_V_sJEE3c"
      }
    },
    {
      "cell_type": "markdown",
      "source": [
        "\n",
        "\n",
        "> Answer:\n",
        "\n",
        "Scenario: Geographic Coordinates\n",
        "\n",
        "Representing GPS coordinates or map points:\n",
        "\n",
        "\n",
        "\n",
        "```\n",
        "# Tuples are perfect for coordinates - they're fixed, immutable data\n",
        "home_location = (40.7128, -74.0060)  # latitude, longitude for NYC\n",
        "work_location = (40.7614, -73.9776)  # latitude, longitude for Central Park\n",
        "\n",
        "# Function that calculates distance between two points\n",
        "def calculate_distance(point1, point2):\n",
        "    lat1, lon1 = point1\n",
        "    lat2, lon2 = point2\n",
        "    # Distance calculation logic here\n",
        "    return ((lat2 - lat1)**2 + (lon2 - lon1)**2)**0.5\n",
        "\n",
        "distance = calculate_distance(home_location, work_location)\n",
        "\n",
        "# Why tuples are better here:\n",
        "# 1. Coordinates don't change - immutable makes sense\n",
        "# 2. Always exactly 2 values - fixed structure\n",
        "# 3. Can be used as dictionary keys for location mapping\n",
        "location_names = {\n",
        "    (40.7128, -74.0060): \"New York City\",\n",
        "    (34.0522, -118.2437): \"Los Angeles\",\n",
        "    (51.5074, -0.1278): \"London\"\n",
        "}\n",
        "```\n",
        "\n",
        "\n",
        "\n"
      ],
      "metadata": {
        "id": "RiPzm43YGQ7d"
      }
    },
    {
      "cell_type": "markdown",
      "source": [
        "13.  How do sets handle duplicate values in Python?"
      ],
      "metadata": {
        "id": "1dK1rKjWGm7r"
      }
    },
    {
      "cell_type": "markdown",
      "source": [
        "\n",
        "\n",
        "> Answer:\n",
        "\n",
        "Sets in Python automatically handle duplicate values by eliminating them entirely. This is one of the fundamental characteristics of sets - they only store unique elements. Here's how this works in detail:\n",
        "\n",
        "Automatic Duplicate Removal\n",
        "\n",
        "Sets silently discard duplicates during creation.\n",
        "\n",
        "\n",
        "```\n",
        "# Creating sets with duplicates\n",
        "numbers = {1, 2, 3, 2, 4, 1, 5, 3}\n",
        "print(numbers)  # {1, 2, 3, 4, 5} - duplicates removed\n",
        "\n",
        "# From lists with duplicates\n",
        "duplicate_list = [1, 1, 2, 2, 3, 3, 4, 4, 5]\n",
        "unique_set = set(duplicate_list)\n",
        "print(unique_set)  # {1, 2, 3, 4, 5}\n",
        "\n",
        "# From strings with repeated characters\n",
        "text = \"programming\"\n",
        "unique_chars = set(text)\n",
        "print(unique_chars)  # {'p', 'r', 'o', 'g', 'a', 'm', 'i', 'n'} - duplicates gone\n",
        "\n",
        "\"\"\"\n",
        "output:\n",
        "{1, 2, 3, 4, 5}\n",
        "{1, 2, 3, 4, 5}\n",
        "{'i', 'n', 'g', 'a', 'm', 'o', 'r', 'p'}\n",
        "\"\"\"\n",
        "```\n",
        "\n",
        "Internal Mechanism: Hash Tables\n",
        "\n",
        "Sets use hash tables to detect duplicates instantly.\n",
        "\n",
        "\n",
        "```\n",
        "# When you add an element, Python:\n",
        "# 1. Calculates hash value of the element\n",
        "# 2. Checks if that hash already exists in the set\n",
        "# 3. If exists, ignores the addition\n",
        "# 4. If new, stores the element\n",
        "\n",
        "demo_set = set()\n",
        "print(f\"Hash of 'hello': {hash('hello')}\")\n",
        "print(f\"Hash of 42: {hash(42)}\")\n",
        "\n",
        "demo_set.add(\"hello\")\n",
        "demo_set.add(\"hello\")  # Same hash - ignored\n",
        "print(f\"Set after adding 'hello' twice: {demo_set}\")\n",
        "\n",
        "output:\n",
        "Hash of 'hello': 6291709675662577658\n",
        "Hash of 42: 42\n",
        "Set after adding 'hello' twice: {'hello'}\n",
        "```"
      ],
      "metadata": {
        "id": "yo-R1mM8Gp9k"
      }
    },
    {
      "cell_type": "markdown",
      "source": [
        "14. How does the “in” keyword work differently for lists and dictionaries?"
      ],
      "metadata": {
        "id": "RLybbekrHlP6"
      }
    },
    {
      "cell_type": "markdown",
      "source": [
        "\n",
        "\n",
        "> Answer:\n",
        "\n",
        "The \"in\" keyword works fundamentally differently for lists and dictionaries due to their underlying data structures and what they're searching for. Here's a detailed comparison.\n",
        "\n",
        "Lists: Searches through values (elements)\n",
        "Dictionaries: Searches through keys (not values)\n",
        "\n",
        "List Search Process\n",
        "```\n",
        "# Simplified view of how \"in\" works for lists\n",
        "def list_contains_simulation(target_list, target):\n",
        "    \"\"\"Shows how 'in' works for lists internally\"\"\"\n",
        "    for index, element in enumerate(target_list):\n",
        "        print(f\"Checking index {index}: {element}\")\n",
        "        if element == target:\n",
        "            return True\n",
        "    return False\n",
        "\n",
        "small_list = [\"red\", \"green\", \"blue\", \"yellow\"]\n",
        "result = list_contains_simulation(small_list, \"yellow\")\n",
        "# Output shows it checks each element until found\n",
        "```\n",
        "Dictionary Search Process\n",
        "```\n",
        "# Simplified view of how \"in\" works for dictionaries\n",
        "def dict_contains_simulation(target_dict, target_key):\n",
        "    \"\"\"Shows how 'in' works for dictionaries internally\"\"\"\n",
        "    hash_value = hash(target_key)\n",
        "    print(f\"Calculated hash for '{target_key}': {hash_value}\")\n",
        "    print(f\"Looking up directly in hash table...\")\n",
        "    return target_key in target_dict\n",
        "\n",
        "sample_dict = {\"name\": \"Alice\", \"age\": 25, \"city\": \"New York\"}\n",
        "result = dict_contains_simulation(sample_dict, \"age\")\n",
        "# Shows direct hash calculation and lookup\n",
        "```\n"
      ],
      "metadata": {
        "id": "wr3TUBEdHqD4"
      }
    },
    {
      "cell_type": "markdown",
      "source": [
        "15. Can you modify the elements of a tuple? Explain why or why not"
      ],
      "metadata": {
        "id": "uzTMxyC9Imsa"
      }
    },
    {
      "cell_type": "markdown",
      "source": [
        "\n",
        "\n",
        "> Answer:\n",
        "\n",
        "No, you cannot modify the elements of a tuple. Tuples are immutable objects in Python, which means once they're created, their contents cannot be changed.\n",
        "```\n",
        "# Creating a tuple\n",
        "coordinates = (10, 20, 30)\n",
        "print(f\"Original tuple: {coordinates}\")\n",
        "\n",
        "# Attempt to change first element\n",
        "coordinates[0] = 15  \n",
        "# Error: TypeError: 'tuple' object does not support item assignment\n",
        "\n",
        "# Attempt to append an element\n",
        "coordinates.append(40)  \n",
        "# Error: AttributeError: 'tuple' object has no attribute 'append'\n",
        "\n",
        "# Attempt to delete an element\n",
        "del coordinates[1]  \n",
        "# Error: TypeError: 'tuple' object doesn't support item deletion\n",
        "\n",
        "```\n",
        "Tuples Are Immutable because:\n",
        "\n",
        "1. Memory Optimization\n",
        "\n",
        "Python can optimize memory usage because tuples never change\n",
        "\n",
        "2. Hash Stability for Dictionary Keys\n",
        "\n",
        "Tuples can be dictionary keys because their hash never changes\n",
        "\n",
        "3. Thread Safety\n",
        "\n",
        "Shared tuple data is safe across multiple threads\n"
      ],
      "metadata": {
        "id": "2q1FEaMwItkE"
      }
    },
    {
      "cell_type": "markdown",
      "source": [
        "16. What is a nested dictionary, and give an example of its use case?"
      ],
      "metadata": {
        "id": "dR3fqe7aKFqm"
      }
    },
    {
      "cell_type": "markdown",
      "source": [
        "\n",
        "\n",
        "> Answer:\n",
        "\n",
        "A nested dictionary in Python is a dictionary where some or all values are themselves dictionaries. This structure allows for storing complex, hierarchical data within a single dictionary.\n",
        "\n",
        "Syntax:\n",
        "\n",
        "A nested dictionary is typically created by assigning a dictionary as a value to a key\n",
        "\n",
        "\n",
        "\n",
        "```\n",
        "nested_dict = {\n",
        "    \"key1\": {\"subkey1\": value1, \"subkey2\": value2},\n",
        "    \"key2\": {\"subkey1\": value3, \"subkey2\": value4}\n",
        "}\n",
        "\n",
        "```\n",
        "\n"
      ],
      "metadata": {
        "id": "8AAl9YWlKLwT"
      }
    },
    {
      "cell_type": "markdown",
      "source": [
        "17.  Describe the time complexity of accessing elements in a dictionary"
      ],
      "metadata": {
        "id": "xEVDmPwAK_5t"
      }
    },
    {
      "cell_type": "markdown",
      "source": [
        "\n",
        "\n",
        ">  Answer:\n",
        "\n",
        "Accessing an element in a Python dictionary by key generally has O(1) time complexity, meaning constant time regardless of the dictionary’s size.\n",
        "\n",
        "This efficiency is due to dictionaries' internal use of hash tables, which quickly map keys to values by computing a hash and looking up the memory location directly.\n",
        "\n",
        "Operations like retrieving a value (dict[key]), checking whether a key exists (key in dict), and using methods like get() are all typically O(1).\n",
        "\n",
        "Worst-case scenario:\n",
        "\n",
        "In rare cases—when many keys have hash collisions—the lookup time can degrade to O(n), where n is the number of keys, but Python's hash function and collision handling make this unlikely in practice.\n",
        "\n"
      ],
      "metadata": {
        "id": "yOo2qCL5LO_G"
      }
    },
    {
      "cell_type": "markdown",
      "source": [
        "18. In what situations are lists preferred over dictionaries."
      ],
      "metadata": {
        "id": "f95MeYTXLp3c"
      }
    },
    {
      "cell_type": "markdown",
      "source": [
        "\n",
        "\n",
        "> Answer:\n",
        "\n",
        "Lists are preferred over dictionaries in situations where the order of items matters, elements are accessed by position (index), or when storing sequences of data without unique identifiers.\n",
        "\n",
        "Key scenarios where lists are appropriate:\n",
        "\n",
        "Ordered collections: If you need to maintain the order of items (e.g., a to-do list, user actions, items in a cart), lists guarantee the sequence is preserved.\n",
        "\n",
        "Access by position: When you routinely need to access elements by their positional index (e.g., get the third item), lists provide efficient indexing.\n",
        "\n",
        "Allow duplicate values: Lists permit duplicate elements, which is useful for datasets where repetition is valid (e.g., votes, repeated measurements).\n",
        "\n",
        "Sequential data processing: When you need to iterate over all items in order, or perform operations like sorting and slicing, lists are ideal.\n",
        "\n",
        "Simple collections without unique keys: If you do not need to associate elements with specific identifiers and merely require a container for items, lists are simpler and use less memory than dictionaries.\n",
        "\n"
      ],
      "metadata": {
        "id": "VL0ksJVLLzVQ"
      }
    },
    {
      "cell_type": "markdown",
      "source": [
        "19. Why are dictionaries considered unordered, and how does that affect data retrieval?"
      ],
      "metadata": {
        "id": "bSAWM20bMEAU"
      }
    },
    {
      "cell_type": "markdown",
      "source": [
        "\n",
        "\n",
        "> Answer:\n",
        "\n",
        "Historically, dictionaries in Python have been considered unordered because their internal storage did not guarantee any predictable order for their items. This meant when iterating over keys or values, the sequence could vary between runs or versions, and you could not access items by numerical index like a list.\n",
        "\n",
        "The original purpose of dictionaries is to provide efficient, constant-time access by key, not to maintain item order.\n",
        "\n",
        "Before Python 3.7, the order of elements in a dictionary reflected neither the order of insertion nor any other discernible pattern.\n",
        "\n",
        "Since Python 3.7, dictionaries preserve insertion order as an official language feature. This means that if you iterate over a dictionary, you will get the items in the order they were added.\n",
        "\n",
        "How This Affects Data Retrieval:\n",
        "\n",
        "In unordered (pre-3.7) dictionaries, you must retrieve items by key, since you cannot rely on their position in the dictionary or iterate in any set order.\n",
        "\n",
        "You cannot access elements by numeric index (like dict), and you should never write code assuming a specific order of keys or values.\n",
        "\n",
        "When order does matter (such as for serializing data, presenting in a UI, or performing ordered operations), you’d use either Python’s OrderedDict class (pre-3.7) or, from Python 3.7 onward, can depend on regular dict insertion order.\n",
        "\n"
      ],
      "metadata": {
        "id": "CwT5l962MLpm"
      }
    },
    {
      "cell_type": "markdown",
      "source": [
        "20. Explain the difference between a list and a dictionary in terms of data retrieval."
      ],
      "metadata": {
        "id": "840b4JnaMdJK"
      }
    },
    {
      "cell_type": "markdown",
      "source": [
        "\n",
        "\n",
        "> Answer:\n",
        "\n",
        "Okay — let’s break down the difference between a list and a dictionary in Python specifically in terms of how we retrieve data.\n",
        "\n",
        "1. Retrieval Method\n",
        "Feature\n",
        "\n",
        "List\n",
        "How to get a value:- By index position (integer-based)\n",
        "\n",
        "Example:  my_list → retrieves the 3rd element\n",
        "\n",
        "Dictionary\n",
        "\n",
        "How to get a value:-  By key (can be string, number, tuple, etc.)\n",
        "Example:  my_dict[\"name\"] → retrieves the value for \"name\"\n",
        "\n",
        "\n",
        "2. Order Considerations\n",
        "\n",
        "Lists are ordered (items have a fixed sequence), so retrieval depends on the position.\n",
        "\n",
        "Dictionaries in Python 3.7+ preserve insertion order during iteration, but retrieval is always by key, not by numeric position.\n",
        "\n"
      ],
      "metadata": {
        "id": "YBj7J8HTMh4a"
      }
    },
    {
      "cell_type": "markdown",
      "source": [
        "Practical Questions"
      ],
      "metadata": {
        "id": "XFmUZcnEMKAR"
      }
    },
    {
      "cell_type": "markdown",
      "source": [
        "1. Write a code to create a string with your name and print it"
      ],
      "metadata": {
        "id": "84HYuhhVSsYe"
      }
    },
    {
      "cell_type": "code",
      "source": [
        "name = input(\"Enter your name: \")\n",
        "print(f\"My Name is {name}\")"
      ],
      "metadata": {
        "id": "vmdih6LEvLlR",
        "colab": {
          "base_uri": "https://localhost:8080/"
        },
        "outputId": "333a8fba-0c13-4d04-9b85-e4707cc309df"
      },
      "execution_count": 2,
      "outputs": [
        {
          "output_type": "stream",
          "name": "stdout",
          "text": [
            "Enter your name: Sayantan\n",
            "My Name is Sayantan\n"
          ]
        }
      ]
    },
    {
      "cell_type": "markdown",
      "source": [
        "2. Write a code to find the length of the string \"Hello World\""
      ],
      "metadata": {
        "id": "FGuaHpDaTQMJ"
      }
    },
    {
      "cell_type": "code",
      "source": [
        "print(len(\"Hello World\"))"
      ],
      "metadata": {
        "colab": {
          "base_uri": "https://localhost:8080/"
        },
        "id": "JaDIplJTS0wP",
        "outputId": "eaac320a-49a9-4ab0-e828-6a57934cbbf5"
      },
      "execution_count": 3,
      "outputs": [
        {
          "output_type": "stream",
          "name": "stdout",
          "text": [
            "11\n"
          ]
        }
      ]
    },
    {
      "cell_type": "markdown",
      "source": [
        "3. Write a code to slice the first 3 characters from the string \"Python Programming\""
      ],
      "metadata": {
        "id": "bAoRR19lTXxG"
      }
    },
    {
      "cell_type": "code",
      "source": [
        "code = \"Python Programming\"\n",
        "print(code[0:3])"
      ],
      "metadata": {
        "colab": {
          "base_uri": "https://localhost:8080/"
        },
        "id": "Qs2hx3RPTW_6",
        "outputId": "88e92621-2538-40ce-c6a5-9e0a2bf00347"
      },
      "execution_count": 4,
      "outputs": [
        {
          "output_type": "stream",
          "name": "stdout",
          "text": [
            "Pyt\n"
          ]
        }
      ]
    },
    {
      "cell_type": "markdown",
      "source": [
        "4. Write a code to convert the string \"hello\" to uppercase"
      ],
      "metadata": {
        "id": "Qg2P68eKTyrn"
      }
    },
    {
      "cell_type": "code",
      "source": [
        "s = \"hello\"\n",
        "print(s.upper())"
      ],
      "metadata": {
        "colab": {
          "base_uri": "https://localhost:8080/"
        },
        "id": "32f4KQ1gTxmd",
        "outputId": "4874fc2f-6cf0-43d3-e95f-12dbb051d21b"
      },
      "execution_count": 5,
      "outputs": [
        {
          "output_type": "stream",
          "name": "stdout",
          "text": [
            "HELLO\n"
          ]
        }
      ]
    },
    {
      "cell_type": "markdown",
      "source": [
        "5. Write a code to replace the word \"apple\" with \"orange\" in the string \"I like apple\""
      ],
      "metadata": {
        "id": "s_f9xlQhT-Hk"
      }
    },
    {
      "cell_type": "code",
      "source": [
        "s = \"I like apple\"\n",
        "list = s.split()\n",
        "list\n",
        "list[2] = \"orange\"\n",
        "list\n",
        "text = \" \".join(list)\n",
        "print(text)"
      ],
      "metadata": {
        "colab": {
          "base_uri": "https://localhost:8080/"
        },
        "id": "efhl_rzWT9fn",
        "outputId": "084f2ee8-ac37-4212-e239-ec61dada93d1"
      },
      "execution_count": 11,
      "outputs": [
        {
          "output_type": "stream",
          "name": "stdout",
          "text": [
            "I like orange\n"
          ]
        }
      ]
    },
    {
      "cell_type": "markdown",
      "source": [
        "6. Write a code to create a list with numbers 1 to 5 and print it"
      ],
      "metadata": {
        "id": "episyhC1VFoL"
      }
    },
    {
      "cell_type": "code",
      "source": [
        "s = []\n",
        "for i in range (1,6):\n",
        "    s.append(i)\n",
        "print(s, end = \" \")"
      ],
      "metadata": {
        "colab": {
          "base_uri": "https://localhost:8080/"
        },
        "id": "ZWnKpIw9UP1p",
        "outputId": "946c93fe-62c9-4341-a298-3c089198fa05"
      },
      "execution_count": 14,
      "outputs": [
        {
          "output_type": "stream",
          "name": "stdout",
          "text": [
            "[1, 2, 3, 4, 5] "
          ]
        }
      ]
    },
    {
      "cell_type": "markdown",
      "source": [
        "7.  Write a code to append the number 10 to the list [1, 2, 3, 4]"
      ],
      "metadata": {
        "id": "1vLNAc3Hb5bt"
      }
    },
    {
      "cell_type": "code",
      "source": [
        "s = [1, 2, 3, 4]\n",
        "s.append(10)\n",
        "print(s, end = \" \")"
      ],
      "metadata": {
        "colab": {
          "base_uri": "https://localhost:8080/"
        },
        "id": "IF6WhBGqaLgE",
        "outputId": "4658eb5d-45a6-46d8-a9ad-e7d883bccb41"
      },
      "execution_count": 13,
      "outputs": [
        {
          "output_type": "execute_result",
          "data": {
            "text/plain": [
              "[1, 2, 3, 4, 10]"
            ]
          },
          "metadata": {},
          "execution_count": 13
        }
      ]
    },
    {
      "cell_type": "markdown",
      "source": [
        "8. Write a code to remove the number 3 from the list [1, 2, 3, 4, 5]"
      ],
      "metadata": {
        "id": "fjgREBcdcgLu"
      }
    },
    {
      "cell_type": "code",
      "source": [
        "s = [1, 2, 3, 4, 5]\n",
        "s.remove(3)\n",
        "print(s, end = \" \")"
      ],
      "metadata": {
        "colab": {
          "base_uri": "https://localhost:8080/"
        },
        "id": "4w7f1Oj6cPdy",
        "outputId": "59f894e3-f64a-4ab1-fb82-36cb96382e3e"
      },
      "execution_count": 15,
      "outputs": [
        {
          "output_type": "stream",
          "name": "stdout",
          "text": [
            "[1, 2, 4, 5] "
          ]
        }
      ]
    },
    {
      "cell_type": "markdown",
      "source": [
        "9. Write a code to access the second element in the list ['a', 'b', 'c', 'd']"
      ],
      "metadata": {
        "id": "IPmaCRhccuwR"
      }
    },
    {
      "cell_type": "code",
      "source": [
        "s = ['a', 'b', 'c', 'd']\n",
        "print(s[1])"
      ],
      "metadata": {
        "colab": {
          "base_uri": "https://localhost:8080/"
        },
        "id": "bMOt_YN6cqyC",
        "outputId": "691df26c-c9ea-45bc-eb4b-467b34e52b89"
      },
      "execution_count": 17,
      "outputs": [
        {
          "output_type": "stream",
          "name": "stdout",
          "text": [
            "b\n"
          ]
        }
      ]
    },
    {
      "cell_type": "markdown",
      "source": [
        "10. Write a code to reverse the list [10, 20, 30, 40, 50]"
      ],
      "metadata": {
        "id": "wKKQSYzJdRwb"
      }
    },
    {
      "cell_type": "code",
      "source": [
        "s = [10, 20, 30, 40, 50]\n",
        "s[::-1]\n",
        "print(s, end = \" \")"
      ],
      "metadata": {
        "colab": {
          "base_uri": "https://localhost:8080/"
        },
        "id": "KyYeHQj0dYBw",
        "outputId": "3171911a-4b9c-4bf4-86f0-3a5e56f5803a"
      },
      "execution_count": 19,
      "outputs": [
        {
          "output_type": "stream",
          "name": "stdout",
          "text": [
            "[10, 20, 30, 40, 50] "
          ]
        }
      ]
    },
    {
      "cell_type": "markdown",
      "source": [
        "11. Write a code to create a tuple with the elements 100, 200, 300 and print it."
      ],
      "metadata": {
        "id": "VWuaerjddpKD"
      }
    },
    {
      "cell_type": "code",
      "source": [
        "s = (100, 200, 300)\n",
        "print(s, end =\" \")"
      ],
      "metadata": {
        "colab": {
          "base_uri": "https://localhost:8080/"
        },
        "id": "onOVfIb2dRFB",
        "outputId": "0bb5072f-5015-430d-b08d-43a8f51c6489"
      },
      "execution_count": 2,
      "outputs": [
        {
          "output_type": "stream",
          "name": "stdout",
          "text": [
            "(100, 200, 300) "
          ]
        }
      ]
    },
    {
      "cell_type": "markdown",
      "source": [
        "12. Write a code to access the second-to-last element of the tuple ('red', 'green', 'blue', 'yellow')"
      ],
      "metadata": {
        "id": "RRZnJe6E2bT3"
      }
    },
    {
      "cell_type": "code",
      "source": [
        "colors = ('red', 'green', 'blue', 'yellow')\n",
        "colors[1]"
      ],
      "metadata": {
        "colab": {
          "base_uri": "https://localhost:8080/",
          "height": 35
        },
        "id": "c3mkwU1MudX_",
        "outputId": "3c176473-edc5-4577-b4b5-098fc73d04b1"
      },
      "execution_count": 4,
      "outputs": [
        {
          "output_type": "execute_result",
          "data": {
            "text/plain": [
              "'green'"
            ],
            "application/vnd.google.colaboratory.intrinsic+json": {
              "type": "string"
            }
          },
          "metadata": {},
          "execution_count": 4
        }
      ]
    },
    {
      "cell_type": "markdown",
      "source": [
        "13. Write a code to find the minimum number in the tuple (10, 20, 5, 15)"
      ],
      "metadata": {
        "id": "qhsJEpM427rD"
      }
    },
    {
      "cell_type": "code",
      "source": [
        "tup = (10, 20, 5, 15)\n",
        "min(tup)"
      ],
      "metadata": {
        "colab": {
          "base_uri": "https://localhost:8080/"
        },
        "id": "7OBaTPNv2hTy",
        "outputId": "e7b6c960-0112-4715-e075-c65579a7eb41"
      },
      "execution_count": 5,
      "outputs": [
        {
          "output_type": "execute_result",
          "data": {
            "text/plain": [
              "5"
            ]
          },
          "metadata": {},
          "execution_count": 5
        }
      ]
    },
    {
      "cell_type": "markdown",
      "source": [
        "14. Write a code to find the index of the element \"cat\" in the tuple ('dog', 'cat', 'rabbit')"
      ],
      "metadata": {
        "id": "bC1a1g4Y3N-L"
      }
    },
    {
      "cell_type": "code",
      "source": [
        "tup = ('dog', 'cat', 'rabbit')\n",
        "tup.index('cat')"
      ],
      "metadata": {
        "colab": {
          "base_uri": "https://localhost:8080/"
        },
        "id": "ThEVwu263JrP",
        "outputId": "bd793d32-5d18-4333-993b-b6c4945def9a"
      },
      "execution_count": 8,
      "outputs": [
        {
          "output_type": "execute_result",
          "data": {
            "text/plain": [
              "1"
            ]
          },
          "metadata": {},
          "execution_count": 8
        }
      ]
    },
    {
      "cell_type": "markdown",
      "source": [
        "15.  Write a code to create a tuple containing three different fruits and check if \"kiwi\" is in it"
      ],
      "metadata": {
        "id": "ZEipkN7d3s8R"
      }
    },
    {
      "cell_type": "code",
      "source": [
        "tup = (\"apple\", \"banana\", \"kiwi\")\n",
        "\"kiwi\" in tup"
      ],
      "metadata": {
        "colab": {
          "base_uri": "https://localhost:8080/"
        },
        "id": "6ZlQo0Ja3xJs",
        "outputId": "35dae24f-a361-4195-9e38-507677319066"
      },
      "execution_count": 9,
      "outputs": [
        {
          "output_type": "execute_result",
          "data": {
            "text/plain": [
              "True"
            ]
          },
          "metadata": {},
          "execution_count": 9
        }
      ]
    },
    {
      "cell_type": "markdown",
      "source": [
        "16. Write a code to create a set with the elements 'a', 'b', 'c' and print it"
      ],
      "metadata": {
        "id": "ekmzP9lP4CLr"
      }
    },
    {
      "cell_type": "code",
      "source": [
        "sets = {\"a\", \"b\", \"c\"}\n",
        "print(sets, end = \" \")"
      ],
      "metadata": {
        "colab": {
          "base_uri": "https://localhost:8080/"
        },
        "id": "GDMVeQ3H3hQe",
        "outputId": "9873a3e6-d0dd-4622-8c4d-a8b5bb3be330"
      },
      "execution_count": 11,
      "outputs": [
        {
          "output_type": "stream",
          "name": "stdout",
          "text": [
            "{'b', 'a', 'c'} "
          ]
        }
      ]
    },
    {
      "cell_type": "markdown",
      "source": [
        "17. Write a code to clear all elements from the set {1, 2, 3, 4, 5}"
      ],
      "metadata": {
        "id": "oBDydO5X4cIk"
      }
    },
    {
      "cell_type": "code",
      "source": [
        "sets = {1, 2, 3, 4, 5}\n",
        "sets.clear()\n",
        "sets"
      ],
      "metadata": {
        "colab": {
          "base_uri": "https://localhost:8080/"
        },
        "id": "lJVJe_kH4Oit",
        "outputId": "5879925c-23a7-40ca-a970-4d6f03f668c0"
      },
      "execution_count": 14,
      "outputs": [
        {
          "output_type": "execute_result",
          "data": {
            "text/plain": [
              "set()"
            ]
          },
          "metadata": {},
          "execution_count": 14
        }
      ]
    },
    {
      "cell_type": "markdown",
      "source": [
        "18. Write a code to remove the element 4 from the set {1, 2, 3, 4}"
      ],
      "metadata": {
        "id": "FYdt4DBg4s5j"
      }
    },
    {
      "cell_type": "code",
      "source": [
        "sets = {1, 2, 3, 4}\n",
        "sets.remove(4)\n",
        "sets"
      ],
      "metadata": {
        "colab": {
          "base_uri": "https://localhost:8080/"
        },
        "id": "u0lzBqY-4haA",
        "outputId": "a5474fde-9666-4b74-9e50-8542cbb99cf4"
      },
      "execution_count": 16,
      "outputs": [
        {
          "output_type": "execute_result",
          "data": {
            "text/plain": [
              "{1, 2, 3}"
            ]
          },
          "metadata": {},
          "execution_count": 16
        }
      ]
    },
    {
      "cell_type": "markdown",
      "source": [
        "19.  Write a code to find the union of two sets {1, 2, 3} and {3, 4, 5}"
      ],
      "metadata": {
        "id": "zG2WknKT42pl"
      }
    },
    {
      "cell_type": "code",
      "source": [
        "set1 = {1,2,3}\n",
        "set2 = {3,4,5}\n",
        "print(set1 | set2)"
      ],
      "metadata": {
        "colab": {
          "base_uri": "https://localhost:8080/"
        },
        "id": "7f7ukTt-4zZc",
        "outputId": "5ff59f99-18be-49af-b21c-1906c987aa67"
      },
      "execution_count": 18,
      "outputs": [
        {
          "output_type": "stream",
          "name": "stdout",
          "text": [
            "{1, 2, 3, 4, 5}\n"
          ]
        }
      ]
    },
    {
      "cell_type": "markdown",
      "source": [
        "20. Write a code to find the intersection of two sets {1, 2, 3} and {2, 3, 4}"
      ],
      "metadata": {
        "id": "Yv3wZkev5HKE"
      }
    },
    {
      "cell_type": "code",
      "source": [
        "set1 = {1,2,3}\n",
        "set2 = {2,3,4}\n",
        "print(set1 & set2)"
      ],
      "metadata": {
        "colab": {
          "base_uri": "https://localhost:8080/"
        },
        "id": "ul4C8BAp5A_D",
        "outputId": "8b2e6b82-5625-4b64-bede-3621c51940e4"
      },
      "execution_count": 19,
      "outputs": [
        {
          "output_type": "stream",
          "name": "stdout",
          "text": [
            "{2, 3}\n"
          ]
        }
      ]
    },
    {
      "cell_type": "markdown",
      "source": [
        "21. Write a code to create a dictionary with the keys \"name\", \"age\", and \"city\", and print it"
      ],
      "metadata": {
        "id": "b2BLZFNI5cF8"
      }
    },
    {
      "cell_type": "code",
      "source": [
        "list1 = [\"name\", \"age\", \"city\"]\n",
        "list2 = []\n",
        "for i in range(3):\n",
        "    list2.append(input(f\"Enter your {list1[i]}: \"))\n",
        "list2\n",
        "{list1:list2 for list1, list2 in zip(list1, list2)}"
      ],
      "metadata": {
        "colab": {
          "base_uri": "https://localhost:8080/"
        },
        "id": "AMiO8bYo5QU7",
        "outputId": "c7ef428e-f3d5-42e3-99c2-adaa90889f2d"
      },
      "execution_count": 25,
      "outputs": [
        {
          "name": "stdout",
          "output_type": "stream",
          "text": [
            "Enter your name: Sayantan\n",
            "Enter your age: 24\n",
            "Enter your city: Midnapore\n"
          ]
        },
        {
          "output_type": "execute_result",
          "data": {
            "text/plain": [
              "{'name': 'Sayantan', 'age': '24', 'city': 'Midnapore'}"
            ]
          },
          "metadata": {},
          "execution_count": 25
        }
      ]
    },
    {
      "cell_type": "markdown",
      "source": [
        "22.  Write a code to add a new key-value pair \"country\": \"USA\" to the dictionary {'name': 'John', 'age': 25}"
      ],
      "metadata": {
        "id": "Cy6iE2xF7Ls9"
      }
    },
    {
      "cell_type": "code",
      "source": [
        "dict1 = {'name': 'John', 'age': 25}\n",
        "dict1[\"country\"] = \"USA\"\n",
        "dict1"
      ],
      "metadata": {
        "colab": {
          "base_uri": "https://localhost:8080/"
        },
        "id": "QbRMzUST6Aql",
        "outputId": "389bf0bb-812a-487d-b675-7a23a0865e03"
      },
      "execution_count": 28,
      "outputs": [
        {
          "output_type": "execute_result",
          "data": {
            "text/plain": [
              "{'name': 'John', 'age': 25, 'country': 'USA'}"
            ]
          },
          "metadata": {},
          "execution_count": 28
        }
      ]
    },
    {
      "cell_type": "markdown",
      "source": [
        "23. Write a code to access the value associated with the key \"name\" in the dictionary {'name': 'Alice', 'age': 30}"
      ],
      "metadata": {
        "id": "MPCxaY3K8Qcn"
      }
    },
    {
      "cell_type": "code",
      "source": [
        "dict = {'name': 'Alice', 'age': 30}\n",
        "dict.get('name')"
      ],
      "metadata": {
        "colab": {
          "base_uri": "https://localhost:8080/",
          "height": 35
        },
        "id": "B172_LX87w1O",
        "outputId": "11ffea71-1b69-4c20-81bd-0cd27c3969c7"
      },
      "execution_count": 29,
      "outputs": [
        {
          "output_type": "execute_result",
          "data": {
            "text/plain": [
              "'Alice'"
            ],
            "application/vnd.google.colaboratory.intrinsic+json": {
              "type": "string"
            }
          },
          "metadata": {},
          "execution_count": 29
        }
      ]
    },
    {
      "cell_type": "markdown",
      "source": [
        "24. Write a code to remove the key \"age\" from the dictionary {'name': 'Bob', 'age': 22, 'city': 'New York'}."
      ],
      "metadata": {
        "id": "khhjNs8L8hSp"
      }
    },
    {
      "cell_type": "code",
      "source": [
        "dict = {'name': 'Bob', 'age': 22, 'city': 'New York'}\n",
        "dict.pop('age')\n",
        "dict"
      ],
      "metadata": {
        "colab": {
          "base_uri": "https://localhost:8080/"
        },
        "id": "p7AyUXPY8gir",
        "outputId": "88083950-2cb2-4dff-8f4a-18face973c81"
      },
      "execution_count": 31,
      "outputs": [
        {
          "output_type": "execute_result",
          "data": {
            "text/plain": [
              "{'name': 'Bob', 'city': 'New York'}"
            ]
          },
          "metadata": {},
          "execution_count": 31
        }
      ]
    },
    {
      "cell_type": "markdown",
      "source": [
        "25. Write a code to check if the key \"city\" exists in the dictionary {'name': 'Alice', 'city': 'Paris'}"
      ],
      "metadata": {
        "id": "AEbc8Q9B80DE"
      }
    },
    {
      "cell_type": "code",
      "source": [
        "dict = {'name': 'Alice', 'city': 'Paris'}\n",
        "# Way No 1: using 'in'\n",
        "if \"city\" in dict:\n",
        "    print(\"City as a key exists\")\n",
        "else:\n",
        "    print(\"Not Exists\")\n",
        "print()\n",
        "# Way No 2: using 'is'\n",
        "if dict.get('city') is not None:\n",
        "    print(\"City as a key exists\")\n",
        "else:\n",
        "    print(\"Not Exists\")"
      ],
      "metadata": {
        "colab": {
          "base_uri": "https://localhost:8080/"
        },
        "id": "aVCSn7_G8snr",
        "outputId": "70d88d22-1e89-48ed-afde-986c4a2bdff2"
      },
      "execution_count": 35,
      "outputs": [
        {
          "output_type": "stream",
          "name": "stdout",
          "text": [
            "City as a key exists\n",
            "\n",
            "City as a key exists\n"
          ]
        }
      ]
    },
    {
      "cell_type": "markdown",
      "source": [
        "26. Write a code to create a list, a tuple, and a dictionary, and print them all"
      ],
      "metadata": {
        "id": "GvfUQERL_XC8"
      }
    },
    {
      "cell_type": "code",
      "source": [
        "lists = []\n",
        "for i in range(3):\n",
        "    lists.append(int(input(f\"Enter {i+1} value: \")))\n",
        "print(lists, end= \" \")\n",
        "print()\n",
        "tup = (\"mango\", \"banana\", \"apple\")\n",
        "print(tup, end = \" \")\n",
        "print()\n",
        "{lists:tup for lists, tup in zip(lists, tup)}"
      ],
      "metadata": {
        "colab": {
          "base_uri": "https://localhost:8080/"
        },
        "id": "Uu5VpL3o-na0",
        "outputId": "66cd2a51-5b33-4dfa-cd34-d9ff9dcaf042"
      },
      "execution_count": 45,
      "outputs": [
        {
          "output_type": "stream",
          "name": "stdout",
          "text": [
            "Enter 1 value: 1\n",
            "Enter 2 value: 2\n",
            "Enter 3 value: 3\n",
            "[1, 2, 3] \n",
            "('mango', 'banana', 'apple') \n"
          ]
        },
        {
          "output_type": "execute_result",
          "data": {
            "text/plain": [
              "{1: 'mango', 2: 'banana', 3: 'apple'}"
            ]
          },
          "metadata": {},
          "execution_count": 45
        }
      ]
    },
    {
      "cell_type": "markdown",
      "source": [
        "27.  Write a code to create a list of 5 random numbers between 1 and 100, sort it in ascending order, and print the\n",
        "result.(replaced)"
      ],
      "metadata": {
        "id": "7Xm7TzkUBSGI"
      }
    },
    {
      "cell_type": "code",
      "source": [
        "list1 = []\n",
        "for i in range(5):\n",
        "    list1.append(int(input(f\"Enter any number in {i+1} position from 1 to 100 : \")))\n",
        "print(list1, end = \" \")\n",
        "print(\" \\n The Sorted list is: \")\n",
        "print(sorted(list1))"
      ],
      "metadata": {
        "colab": {
          "base_uri": "https://localhost:8080/"
        },
        "id": "MD-nhZ_D_zep",
        "outputId": "4b10b905-333f-4737-f65a-0ab427d39f2b"
      },
      "execution_count": 48,
      "outputs": [
        {
          "output_type": "stream",
          "name": "stdout",
          "text": [
            "Enter any number in 1 position from 1 to 100 : 50\n",
            "Enter any number in 2 position from 1 to 100 : 12\n",
            "Enter any number in 3 position from 1 to 100 : 10\n",
            "Enter any number in 4 position from 1 to 100 : 45\n",
            "Enter any number in 5 position from 1 to 100 : 36\n",
            "[50, 12, 10, 45, 36]  \n",
            " The Sorted list is: \n",
            "[10, 12, 36, 45, 50]\n"
          ]
        }
      ]
    },
    {
      "cell_type": "markdown",
      "source": [
        "28. Write a code to create a list with strings and print the element at the third index"
      ],
      "metadata": {
        "id": "dsJdG8FoCjOx"
      }
    },
    {
      "cell_type": "code",
      "source": [
        "list1= []\n",
        "for i in range(5):\n",
        "    list1.append(input(f\"Enter the {1} string: \"))\n",
        "print(list1, end = \" \")\n",
        "print()\n",
        "print(list1[3])"
      ],
      "metadata": {
        "colab": {
          "base_uri": "https://localhost:8080/"
        },
        "id": "3elyqc38B6EO",
        "outputId": "f3cf3b64-db8a-4d78-a3a5-38ab0c5f6e7d"
      },
      "execution_count": 50,
      "outputs": [
        {
          "output_type": "stream",
          "name": "stdout",
          "text": [
            "Enter the 1 string: Mumbai\n",
            "Enter the 1 string: Delhi\n",
            "Enter the 1 string: Kolkata\n",
            "Enter the 1 string: Bangalore\n",
            "Enter the 1 string: Chennai\n",
            "['Mumbai', 'Delhi', 'Kolkata', 'Bangalore', 'Chennai'] \n",
            "Bangalore\n"
          ]
        }
      ]
    },
    {
      "cell_type": "markdown",
      "source": [
        "29. Write a code to combine two dictionaries into one and print the result."
      ],
      "metadata": {
        "id": "-K0O07jkINoU"
      }
    },
    {
      "cell_type": "code",
      "source": [
        "dict1 = {101:\"Sayantan\", 102:\"Pratibhu\"}\n",
        "dict2 = {103:\"Arnab\", \"company\":\"Persistent Systems\"}\n",
        "dict1.update(dict2)\n",
        "print(dict1, end = \" \")"
      ],
      "metadata": {
        "colab": {
          "base_uri": "https://localhost:8080/"
        },
        "id": "m6GzEN33H_wg",
        "outputId": "5c9be995-7e11-4cc0-ee7a-4601040804f0"
      },
      "execution_count": 51,
      "outputs": [
        {
          "output_type": "stream",
          "name": "stdout",
          "text": [
            "{101: 'Sayantan', 102: 'Pratibhu', 103: 'Arnab', 'company': 'Persistent Systems'} "
          ]
        }
      ]
    },
    {
      "cell_type": "markdown",
      "source": [
        "30. Write a code to convert a list of strings into a set."
      ],
      "metadata": {
        "id": "o6zhQdreItMf"
      }
    },
    {
      "cell_type": "code",
      "source": [
        "list1 = [\"apple\", \"banana\", \"guava\"]\n",
        "set1 = set(list1)\n",
        "print(set1, end = \" \")"
      ],
      "metadata": {
        "colab": {
          "base_uri": "https://localhost:8080/"
        },
        "id": "MjZC26tEIoif",
        "outputId": "c07d55fd-1995-4d3c-aefd-e74862a959e1"
      },
      "execution_count": 54,
      "outputs": [
        {
          "output_type": "stream",
          "name": "stdout",
          "text": [
            "{'apple', 'guava', 'banana'} "
          ]
        }
      ]
    }
  ]
}